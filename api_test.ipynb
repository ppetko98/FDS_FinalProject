{
 "cells": [
  {
   "cell_type": "code",
   "execution_count": 38,
   "metadata": {
    "collapsed": true
   },
   "outputs": [
    {
     "data": {
      "text/plain": "'This is a series of derivative artworks based on the official Bored Ape Yacht Club apes that I own and keep in my collection.'"
     },
     "metadata": {},
     "output_type": "display_data"
    }
   ],
   "source": [
    "import pandas as pd\n",
    "import requests\n",
    "import json\n",
    "base_url = \"https://api.opensea.io/api/v1/\"\n",
    "collections_url = base_url+\"collection/{}\"\n",
    "collection = 'boredapes'\n",
    "headers = {\"Accept\": \"application/json\"}\n",
    "\n",
    "response = requests.request(\"GET\", collections_url.format(collection), headers=headers)\n",
    "\n",
    "display(json.loads(response.text)['collection']['description'])\n"
   ]
  },
  {
   "cell_type": "code",
   "execution_count": 21,
   "outputs": [
    {
     "data": {
      "text/plain": "<Response [403]>"
     },
     "execution_count": 21,
     "metadata": {},
     "output_type": "execute_result"
    }
   ],
   "source": [
    "assets_url = base_url+\"assets\"\n",
    "query_param = {\"collection\":collection}\n",
    "\n",
    "response2 = requests.get(assets_url,query_param, headers=headers)\n",
    "response2"
   ],
   "metadata": {
    "collapsed": false,
    "pycharm": {
     "name": "#%%\n"
    }
   }
  },
  {
   "cell_type": "markdown",
   "source": [
    "### Upshot API"
   ],
   "metadata": {
    "collapsed": false,
    "pycharm": {
     "name": "#%% md\n"
    }
   }
  },
  {
   "cell_type": "code",
   "execution_count": 35,
   "outputs": [],
   "source": [
    "import requests\n",
    "import json\n",
    "import pandas as pd\n",
    "import API_KEYS"
   ],
   "metadata": {
    "collapsed": false,
    "pycharm": {
     "name": "#%%\n"
    }
   }
  },
  {
   "cell_type": "code",
   "execution_count": 74,
   "outputs": [],
   "source": [
    "API_KEY = API_KEYS.UPSHOT_API_KEY\n",
    "\n",
    "bayc = 'boredapeyachtclub'\n",
    "base_url = 'https://api.upshot.io/v1/'\n",
    "collections_url = base_url+'collections'\n",
    "\n",
    "request = requests.get(collections_url, params={'offset':0, 'includeStats':'true'})\n",
    "\n",
    "if request.ok:\n",
    "    n_collections = json.loads(request.content)['data']['count']\n",
    "    collections = json.loads(request.content)['data']['collections']\n",
    "    total_collected = len(collections)\n",
    "    while total_collected<n_collections:\n",
    "        request = requests.get(collections_url, params={'offset':total_collected, 'includeStats':'true'})\n",
    "        coll_i = json.loads(request.content)['data']['collections']\n",
    "        collections += coll_i\n",
    "        total_collected += len(coll_i)\n",
    "else:\n",
    "    print(request.content)"
   ],
   "metadata": {
    "collapsed": false,
    "pycharm": {
     "name": "#%%\n"
    }
   }
  },
  {
   "cell_type": "code",
   "execution_count": 75,
   "outputs": [
    {
     "data": {
      "text/plain": "                    name                                        description  \\\nid                                                                            \n1            CryptoPunks  CryptoPunks launched as a fixed set of 10,000 ...   \n3              Hashmasks  Become part of digital art and collectibles hi...   \n232       Pudgy Penguins  Located in the freezing cold, arctic region of...   \n265   Construction Token  Each Construction Token is unique and contains...   \n267              Genesis  Genesis: Generative System. A block hash strin...   \n...                  ...                                                ...   \n4687           Pizza 1o1  Inspired by the inherent multiplicity that goe...   \n4720   Quantum Collapses  The Quantum Collapses project is at the inters...   \n4753            Isodream  Isodream is a creative exploration into the in...   \n4786              Strata  Strata explores the field of geology and more ...   \n4819            PrimiEnd  The final chapter in the Primitive Trilogy. Th...   \n\n                                               imageUrl  \\\nid                                                        \n1     https://lh3.googleusercontent.com/BdxvLseXcfl5...   \n3     https://lh3.googleusercontent.com/6X867ZmCsuYc...   \n232   https://lh3.googleusercontent.com/bcCd1TfusKK6...   \n265   http://res.cloudinary.com/upshot-inc/image/upl...   \n267   http://res.cloudinary.com/upshot-inc/image/upl...   \n...                                                 ...   \n4687           https://media.artblocks.io/240000001.png   \n4720           https://media.artblocks.io/275000000.png   \n4753           https://media.artblocks.io/274000000.png   \n4786           https://media.artblocks.io/276000000.png   \n4819           https://media.artblocks.io/268000000.png   \n\n                                  slug  \\\nid                                       \n1                          cryptopunks   \n3                            hashmasks   \n232                      pudgypenguins   \n265   construction-token-by-jeff-davis   \n267                     genesis-by-dca   \n...                                ...   \n4687                              None   \n4720      quantum-collapses-by-insight   \n4753                              None   \n4786                              None   \n4819                              None   \n\n                                                  stats  \nid                                                       \n1     [{'ceil': '124457067524886018255505', 'floor':...  \n3     [{'ceil': '420000000000000000000', 'floor': '5...  \n232   [{'ceil': '130000000000000000000', 'floor': '6...  \n265   [{'ceil': '30000000000000000000', 'floor': '35...  \n267   [{'ceil': '38000000000000000000', 'floor': '24...  \n...                                                 ...  \n4687                                                 []  \n4720                                                 []  \n4753                                                 []  \n4786                                                 []  \n4819                                                 []  \n\n[286 rows x 5 columns]",
      "text/html": "<div>\n<style scoped>\n    .dataframe tbody tr th:only-of-type {\n        vertical-align: middle;\n    }\n\n    .dataframe tbody tr th {\n        vertical-align: top;\n    }\n\n    .dataframe thead th {\n        text-align: right;\n    }\n</style>\n<table border=\"1\" class=\"dataframe\">\n  <thead>\n    <tr style=\"text-align: right;\">\n      <th></th>\n      <th>name</th>\n      <th>description</th>\n      <th>imageUrl</th>\n      <th>slug</th>\n      <th>stats</th>\n    </tr>\n    <tr>\n      <th>id</th>\n      <th></th>\n      <th></th>\n      <th></th>\n      <th></th>\n      <th></th>\n    </tr>\n  </thead>\n  <tbody>\n    <tr>\n      <th>1</th>\n      <td>CryptoPunks</td>\n      <td>CryptoPunks launched as a fixed set of 10,000 ...</td>\n      <td>https://lh3.googleusercontent.com/BdxvLseXcfl5...</td>\n      <td>cryptopunks</td>\n      <td>[{'ceil': '124457067524886018255505', 'floor':...</td>\n    </tr>\n    <tr>\n      <th>3</th>\n      <td>Hashmasks</td>\n      <td>Become part of digital art and collectibles hi...</td>\n      <td>https://lh3.googleusercontent.com/6X867ZmCsuYc...</td>\n      <td>hashmasks</td>\n      <td>[{'ceil': '420000000000000000000', 'floor': '5...</td>\n    </tr>\n    <tr>\n      <th>232</th>\n      <td>Pudgy Penguins</td>\n      <td>Located in the freezing cold, arctic region of...</td>\n      <td>https://lh3.googleusercontent.com/bcCd1TfusKK6...</td>\n      <td>pudgypenguins</td>\n      <td>[{'ceil': '130000000000000000000', 'floor': '6...</td>\n    </tr>\n    <tr>\n      <th>265</th>\n      <td>Construction Token</td>\n      <td>Each Construction Token is unique and contains...</td>\n      <td>http://res.cloudinary.com/upshot-inc/image/upl...</td>\n      <td>construction-token-by-jeff-davis</td>\n      <td>[{'ceil': '30000000000000000000', 'floor': '35...</td>\n    </tr>\n    <tr>\n      <th>267</th>\n      <td>Genesis</td>\n      <td>Genesis: Generative System. A block hash strin...</td>\n      <td>http://res.cloudinary.com/upshot-inc/image/upl...</td>\n      <td>genesis-by-dca</td>\n      <td>[{'ceil': '38000000000000000000', 'floor': '24...</td>\n    </tr>\n    <tr>\n      <th>...</th>\n      <td>...</td>\n      <td>...</td>\n      <td>...</td>\n      <td>...</td>\n      <td>...</td>\n    </tr>\n    <tr>\n      <th>4687</th>\n      <td>Pizza 1o1</td>\n      <td>Inspired by the inherent multiplicity that goe...</td>\n      <td>https://media.artblocks.io/240000001.png</td>\n      <td>None</td>\n      <td>[]</td>\n    </tr>\n    <tr>\n      <th>4720</th>\n      <td>Quantum Collapses</td>\n      <td>The Quantum Collapses project is at the inters...</td>\n      <td>https://media.artblocks.io/275000000.png</td>\n      <td>quantum-collapses-by-insight</td>\n      <td>[]</td>\n    </tr>\n    <tr>\n      <th>4753</th>\n      <td>Isodream</td>\n      <td>Isodream is a creative exploration into the in...</td>\n      <td>https://media.artblocks.io/274000000.png</td>\n      <td>None</td>\n      <td>[]</td>\n    </tr>\n    <tr>\n      <th>4786</th>\n      <td>Strata</td>\n      <td>Strata explores the field of geology and more ...</td>\n      <td>https://media.artblocks.io/276000000.png</td>\n      <td>None</td>\n      <td>[]</td>\n    </tr>\n    <tr>\n      <th>4819</th>\n      <td>PrimiEnd</td>\n      <td>The final chapter in the Primitive Trilogy. Th...</td>\n      <td>https://media.artblocks.io/268000000.png</td>\n      <td>None</td>\n      <td>[]</td>\n    </tr>\n  </tbody>\n</table>\n<p>286 rows × 5 columns</p>\n</div>"
     },
     "execution_count": 75,
     "metadata": {},
     "output_type": "execute_result"
    }
   ],
   "source": [
    "collections_df = pd.DataFrame(collections)\n",
    "collections_df.set_index('id', inplace=True)\n",
    "collections_df.sort_values(by='id', inplace=True)\n",
    "collections_df"
   ],
   "metadata": {
    "collapsed": false,
    "pycharm": {
     "name": "#%%\n"
    }
   }
  },
  {
   "cell_type": "code",
   "execution_count": 122,
   "outputs": [
    {
     "data": {
      "text/plain": "                     name                                        description  \\\nid                                                                             \n607  Bored Ape Yacht Club  The Bored Ape Yacht Club is a collection of 10...   \n\n                                              imageUrl               slug  \\\nid                                                                          \n607  https://lh3.googleusercontent.com/Ju9CkWtV-1Ok...  boredapeyachtclub   \n\n                                                 stats  \nid                                                      \n607  [{'ceil': '769000000000000000000', 'floor': '7...  ",
      "text/html": "<div>\n<style scoped>\n    .dataframe tbody tr th:only-of-type {\n        vertical-align: middle;\n    }\n\n    .dataframe tbody tr th {\n        vertical-align: top;\n    }\n\n    .dataframe thead th {\n        text-align: right;\n    }\n</style>\n<table border=\"1\" class=\"dataframe\">\n  <thead>\n    <tr style=\"text-align: right;\">\n      <th></th>\n      <th>name</th>\n      <th>description</th>\n      <th>imageUrl</th>\n      <th>slug</th>\n      <th>stats</th>\n    </tr>\n    <tr>\n      <th>id</th>\n      <th></th>\n      <th></th>\n      <th></th>\n      <th></th>\n      <th></th>\n    </tr>\n  </thead>\n  <tbody>\n    <tr>\n      <th>607</th>\n      <td>Bored Ape Yacht Club</td>\n      <td>The Bored Ape Yacht Club is a collection of 10...</td>\n      <td>https://lh3.googleusercontent.com/Ju9CkWtV-1Ok...</td>\n      <td>boredapeyachtclub</td>\n      <td>[{'ceil': '769000000000000000000', 'floor': '7...</td>\n    </tr>\n  </tbody>\n</table>\n</div>"
     },
     "execution_count": 122,
     "metadata": {},
     "output_type": "execute_result"
    }
   ],
   "source": [
    "empty_stats = [i for i,row in collections_df.iterrows() if row['stats']==[]]\n",
    "empty_slug = [i for i,row in collections_df.iterrows() if row['slug']== None]\n",
    "# display(empty_slug)\n",
    "# display(empty_stats)\n",
    "# maybe remove collections that dont have slug and/or stats\n",
    "collections_df.loc[collections_df.name == 'Bored Ape Yacht Club']"
   ],
   "metadata": {
    "collapsed": false,
    "pycharm": {
     "name": "#%%\n"
    }
   }
  },
  {
   "cell_type": "markdown",
   "source": [
    "How to find the assets of a collection?"
   ],
   "metadata": {
    "collapsed": false,
    "pycharm": {
     "name": "#%% md\n"
    }
   }
  },
  {
   "cell_type": "code",
   "execution_count": 147,
   "outputs": [
    {
     "data": {
      "text/plain": "b'{\"status\":false,\"message\":\"Sorry, we are unable to process your request\",\"meta\":{\"message\":\"value.map is not a function\"}}'"
     },
     "metadata": {},
     "output_type": "display_data"
    },
    {
     "name": "stdout",
     "output_type": "stream",
     "text": [
      "https://api.upshot.io/v1/assets/?assetId=0xb47e3cd837dDF8e4c57F05d70Ab865de6e193BBB/0\n"
     ]
    }
   ],
   "source": [
    "bayc_addr = '0xbc4ca0eda7647a8ab7c2061c2e118a18a936f13d'\n",
    "cp_addr = '0xb47e3cd837dDF8e4c57F05d70Ab865de6e193BBB/0'\n",
    "assets_url = base_url+'assets/'+'?assetId='+cp_addr\n",
    "\n",
    "# q_params = {'assetId':cp_addr}\n",
    "\n",
    "request = requests.get(assets_url)\n",
    "if request.ok:\n",
    "    print(request.content)\n",
    "else:\n",
    "    display(request.content)\n",
    "    print(request.url)\n"
   ],
   "metadata": {
    "collapsed": false,
    "pycharm": {
     "name": "#%%\n"
    }
   }
  }
 ],
 "metadata": {
  "kernelspec": {
   "display_name": "Python 3",
   "language": "python",
   "name": "python3"
  },
  "language_info": {
   "codemirror_mode": {
    "name": "ipython",
    "version": 2
   },
   "file_extension": ".py",
   "mimetype": "text/x-python",
   "name": "python",
   "nbconvert_exporter": "python",
   "pygments_lexer": "ipython2",
   "version": "2.7.6"
  }
 },
 "nbformat": 4,
 "nbformat_minor": 0
}